{
 "cells": [
  {
   "cell_type": "code",
   "execution_count": null,
   "id": "78709c59-ed1b-4543-a2bd-c12414173258",
   "metadata": {},
   "outputs": [],
   "source": [
    "import os\n",
    "import glob\n",
    "import pandas as pd"
   ]
  },
  {
   "cell_type": "code",
   "execution_count": null,
   "id": "b76a56ae-3f9c-487f-a8e2-c55e04dc6bcd",
   "metadata": {},
   "outputs": [],
   "source": [
    "csv_files = glob.glob(\"one_hidden_mlp_records/*/*trials.csv\")"
   ]
  },
  {
   "cell_type": "code",
   "execution_count": null,
   "id": "682cfb4f-5368-4a0b-b33c-eafb40d18a70",
   "metadata": {},
   "outputs": [],
   "source": [
    "def make_dict(file_list):\n",
    "    data_dict = {}\n",
    "    for f in file_list:\n",
    "        # Extract the middle portion: records/<key>/<file>\n",
    "        key = os.path.basename(os.path.dirname(f))  # <--- folder name\n",
    "        if \"parzen_sampler\" in key:\n",
    "            data_dict[key.replace(\"_parzen_sampler\", \"\")] = pd.read_csv(f)\n",
    "        elif \"grid_sampler\" in key:\n",
    "            data_dict[key.replace(\"_grid_sampler\", \"\")] = pd.read_csv(f)\n",
    "        elif \"random_sampler\" in key:\n",
    "            data_dict[key.replace(\"_random_sampler\", \"\")] = pd.read_csv(f)\n",
    "    return data_dict"
   ]
  },
  {
   "cell_type": "code",
   "execution_count": null,
   "id": "48338e50-ce60-4974-9366-fd28223843b8",
   "metadata": {},
   "outputs": [],
   "source": [
    "parzen_files = [f for f in csv_files if \"parzen_sampler\" in f]\n",
    "grid_files   = [f for f in csv_files if \"grid_sampler\" in f]\n",
    "random_files = [f for f in csv_files if \"random_sampler\" in f]\n",
    "parzen_dict = make_dict(parzen_files)\n",
    "grid_dict   = make_dict(grid_files)\n",
    "random_dict = make_dict(random_files)"
   ]
  },
  {
   "cell_type": "code",
   "execution_count": null,
   "id": "933b2ba0-db7b-4484-9938-2f9f45c1e67d",
   "metadata": {},
   "outputs": [],
   "source": [
    "from vizs import plot_efficiency_curves_best_of_N, plot_ard_panels, plot_accuracy_vs_param_panels"
   ]
  },
  {
   "cell_type": "code",
   "execution_count": null,
   "id": "3681e895-2927-4f2d-9854-ddfdacb8612b",
   "metadata": {},
   "outputs": [],
   "source": [
    "plot_efficiency_curves_best_of_N(parzen_dict, grid_dict, random_dict, exp_ks=(1,2,4,8,16,32))"
   ]
  },
  {
   "cell_type": "code",
   "execution_count": null,
   "id": "f1070f54-ce86-487e-8931-ad21a401f284",
   "metadata": {},
   "outputs": [],
   "source": [
    "plot_ard_panels(parzen_dict, grid_dict, random_dict, n_boot=64)"
   ]
  },
  {
   "cell_type": "raw",
   "id": "b124a4b2-2891-472c-b79d-8c9d1f2a3740",
   "metadata": {},
   "source": [
    "parzen_files = [f for f in csv_files if \"_sbn_parzen_sampler\" in f]\n",
    "grid_files   = [f for f in csv_files if \"_sbn_grid_sampler\" in f]\n",
    "random_files = [f for f in csv_files if \"_sbn_random_sampler\" in f]\n",
    "parzen_dict = make_dict(parzen_files)\n",
    "grid_dict   = make_dict(grid_files)\n",
    "random_dict = make_dict(random_files)"
   ]
  },
  {
   "cell_type": "code",
   "execution_count": null,
   "id": "f562b802-76bb-4c84-a9ab-2f96febbe560",
   "metadata": {},
   "outputs": [],
   "source": [
    "fig, corr = plot_accuracy_vs_param_panels(grid_dict, grid_dict, grid_dict,\n",
    "                                           acc_col=\"value\", param_col=\"value\", plot_mode=\"scatter\",\n",
    "                                           save_path=\"acc_vs_param_8panels_scatter.png\")"
   ]
  },
  {
   "cell_type": "code",
   "execution_count": null,
   "id": "38f4bdfa-4d6e-44d3-a286-4bfd91740a0c",
   "metadata": {},
   "outputs": [],
   "source": [
    "fig, corr = plot_accuracy_vs_param_panels(grid_dict, grid_dict, grid_dict,\n",
    "                                           acc_col=\"value\", param_col=\"value\", plot_mode=\"bland_altman\",\n",
    "                                           save_path=\"acc_vs_param_8panels_balt.png\")"
   ]
  },
  {
   "cell_type": "code",
   "execution_count": null,
   "id": "2711a0a6-28a9-4a69-8bcd-5765a2065a50",
   "metadata": {},
   "outputs": [],
   "source": []
  }
 ],
 "metadata": {
  "kernelspec": {
   "display_name": "Python (selfbuildingnets)",
   "language": "python",
   "name": "selfbuildingnets"
  },
  "language_info": {
   "codemirror_mode": {
    "name": "ipython",
    "version": 3
   },
   "file_extension": ".py",
   "mimetype": "text/x-python",
   "name": "python",
   "nbconvert_exporter": "python",
   "pygments_lexer": "ipython3",
   "version": "3.8.20"
  }
 },
 "nbformat": 4,
 "nbformat_minor": 5
}
